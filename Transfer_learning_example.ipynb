{
  "nbformat": 4,
  "nbformat_minor": 5,
  "metadata": {
    "kernelspec": {
      "display_name": "Python 3 (ipykernel)",
      "language": "python",
      "name": "python3"
    },
    "language_info": {
      "codemirror_mode": {
        "name": "ipython",
        "version": 3
      },
      "file_extension": ".py",
      "mimetype": "text/x-python",
      "name": "python",
      "nbconvert_exporter": "python",
      "pygments_lexer": "ipython3",
      "version": "3.9.6"
    },
    "colab": {
      "name": "Transfer-learning example.ipynb",
      "provenance": [],
      "collapsed_sections": []
    },
    "accelerator": "GPU"
  },
  "cells": [
    {
      "cell_type": "markdown",
      "metadata": {
        "id": "a165e198"
      },
      "source": [
        "# We will be fine-tuning ResNet50 model (pre-trained with VGGFace2 weights) to perform facial expression classification on FER2013 dataset. "
      ],
      "id": "a165e198"
    },
    {
      "cell_type": "markdown",
      "metadata": {
        "id": "f06bbdd5"
      },
      "source": [
        "## Install necessary python packages \n",
        "\n",
        "Run the below commands if these packages are not installed in your system. \n",
        "\n",
        "- pip install pandas\n",
        "- pip install torch\n",
        "- pip install -U scikit-learn\n",
        "\n",
        "For visualisation\n",
        "\n",
        "- pip install matplotlib\n",
        "- pip install seaborn\n",
        "\n",
        "You can also use conda to install the packages.\n",
        "\n",
        "## Obtaining the data \n",
        "Download the data from the below link (icml_face_data.csv) and save it in the project folder </br>  \n",
        "https://www.kaggle.com/c/challenges-in-representation-learning-facial-expression-recognition-challenge/data?select=icml_face_data.csv\n",
        "\n",
        "\n",
        "## Running in colab\n",
        "\n",
        "This code uses GPU and can be ran on Google Colab. \n",
        "Steps:\n",
        "- Upload the project folder to your Google Drive along with this notebook\n",
        "- Open this project with Google Colaboratory\n",
        "- At Runtime option, click on Change Runtime type and Change it from None to GPU.\n",
        "\n",
        "You are good to go! Start implementing the code below.\n",
        "\n",
        "## Credits\n",
        "\n",
        "- https://www.kaggle.com/alinaspasskaya/lab-2-face-emotion-classification-with-mlp\n",
        "- https://www.kaggle.com/sharadhaviswanathan/imageclassification-facialexpression\n",
        "- https://github.com/cydonia999/VGGFace2-pytorch/\n"
      ],
      "id": "f06bbdd5"
    },
    {
      "cell_type": "code",
      "metadata": {
        "id": "_CNKprSvLse1"
      },
      "source": [
        "from google.colab import drive"
      ],
      "id": "_CNKprSvLse1",
      "execution_count": 2,
      "outputs": []
    },
    {
      "cell_type": "markdown",
      "metadata": {
        "id": "u89-nuW2Rk2-"
      },
      "source": [
        "The below command will ask to choose the Gmail account that needs to be accessed in this project, choose the one where you have uploaded the data. You will recieve a password which needs to be entered to proceed."
      ],
      "id": "u89-nuW2Rk2-"
    },
    {
      "cell_type": "code",
      "metadata": {
        "colab": {
          "base_uri": "https://localhost:8080/"
        },
        "id": "Wi3GnPrDLsl-",
        "outputId": "a493c9a0-8268-4048-bb37-0c6beea68d27"
      },
      "source": [
        "drive.mount('/content/gdrive') "
      ],
      "id": "Wi3GnPrDLsl-",
      "execution_count": 3,
      "outputs": [
        {
          "output_type": "stream",
          "name": "stdout",
          "text": [
            "Mounted at /content/gdrive\n"
          ]
        }
      ]
    },
    {
      "cell_type": "markdown",
      "metadata": {
        "id": "0cefc19b"
      },
      "source": [
        "## Import packages"
      ],
      "id": "0cefc19b"
    },
    {
      "cell_type": "code",
      "metadata": {
        "id": "a4240d4d"
      },
      "source": [
        "import pandas as pd\n",
        "import numpy as np\n",
        "import matplotlib.pyplot as plt\n",
        "import random\n",
        "from sklearn.metrics import f1_score\n",
        "from torch.utils import data\n",
        "import torchvision.transforms\n",
        "\n",
        "## torch packages\n",
        "import torch\n",
        "from torch import nn\n",
        "from torch.nn import functional as F\n",
        "from tqdm import tqdm\n",
        "import pickle"
      ],
      "id": "a4240d4d",
      "execution_count": 4,
      "outputs": []
    },
    {
      "cell_type": "markdown",
      "metadata": {
        "id": "7e2538a4"
      },
      "source": [
        "## Obtaining and Preprocessing the data\n",
        "\n",
        "In data preparation the first step will be getting the train, validation and test splits of the data and this applies across all the modalities.  \n",
        "\n",
        "Preprocessing the dataset varies based on both dataset and the model architecture in place. For example, the current ResNet pre-trained model architectute accepts three channel images with size 224x224 and we need to resize our images in that format. \n",
        "\n",
        "As FER2013 contains grayscale images, we repeat the same image in all the three channels, this is basic method of conversion.\n",
        "\n",
        "\n"
      ],
      "id": "7e2538a4"
    },
    {
      "cell_type": "code",
      "metadata": {
        "id": "454051c9"
      },
      "source": [
        "data_path = \"/content/gdrive/MyDrive/is4152_tutorial/icml_face_data.csv\"\n",
        "data = pd.read_csv(data_path) ## Grayscale images\n",
        "\n",
        "# (0=Angry, 1=Disgust, 2=Fear, 3=Happy, 4=Sad, 5=Surprise, 6=Neutral).\n",
        "emotion_labels = ['Anger', 'Disgust', 'Fear', 'Happiness', 'Sadness', 'Surprise', 'Neutral']\n",
        "\n",
        "\n",
        "def parse_data(data):\n",
        "    \n",
        "    image_array = np.zeros(shape=(len(data), 48, 48, 3))\n",
        "    image_label = np.array(data[\"emotion\"].values) \n",
        "    \n",
        "    for i, row in enumerate(data.index):\n",
        "        \n",
        "        ## .loc indexes the pandas row based on the index\n",
        "        image = np.fromstring(data.loc[row, ' pixels'], dtype=np.uint8, sep=' ') \n",
        "        image = np.reshape(image, (48, 48))\n",
        "        \n",
        "        ## making input size similar to input size of the pre-trained model \n",
        "        conv_image = np.empty((48,48,3))  \n",
        "        conv_image[:, :, 0] = image\n",
        "        conv_image[:, :, 1] = image\n",
        "        conv_image[:, :, 2] = image\n",
        "      \n",
        "        image_array[i, :, :, :] = conv_image\n",
        "\n",
        "    return image_array, image_label\n",
        "\n",
        "# Splitting the data into train, validation and testing set thanks to Usage column\n",
        "train_imgs, train_lbls = parse_data(data[data[\" Usage\"] == \"Training\"])\n",
        "val_imgs, val_lbls = parse_data(data[data[\" Usage\"] == \"PublicTest\"])\n",
        "test_imgs, test_lbls = parse_data(data[data[\" Usage\"] == \"PrivateTest\"])"
      ],
      "id": "454051c9",
      "execution_count": 5,
      "outputs": []
    },
    {
      "cell_type": "markdown",
      "metadata": {
        "id": "afca95a9"
      },
      "source": [
        "## Structuring the dataset to pass it through a dataloader in Pytorch\n",
        "\n",
        "The below code creates a custom Pytorch dataset which helps the dataloader to access the data to create the batches. In \\_get_item\\_ we can apply random augmentations to some of training images to prevent overfitting. "
      ],
      "id": "afca95a9"
    },
    {
      "cell_type": "code",
      "metadata": {
        "id": "6e49d3ed"
      },
      "source": [
        "class FER2013_Dataset(torch.utils.data.Dataset):\n",
        "    \n",
        "    def __init__(self,imgs,labels,training=False):\n",
        "\n",
        "        self.imgs = imgs\n",
        "        self.labels = labels\n",
        "        self.training = training\n",
        "    def __len__(self):\n",
        "        \n",
        "        return len(self.imgs)\n",
        "    \n",
        "    def __getitem__(self, index):\n",
        "        \n",
        "        img = self.imgs[index].astype(np.uint8)\n",
        "\n",
        "        if self.training:\n",
        "            \n",
        "            img = torchvision.transforms.ToPILImage()(img)\n",
        "            img = torchvision.transforms.Resize((224,224))(img)\n",
        "            img = torchvision.transforms.RandomHorizontalFlip(p=0.5)(img) ## random flipping to prevent overfitting\n",
        "            img = torchvision.transforms.ToTensor()(img)\n",
        "\n",
        "        else:\n",
        "            \n",
        "            img = torchvision.transforms.ToTensor()(img)\n",
        "            img = torchvision.transforms.Resize((224,224))(img)\n",
        "            \n",
        "        label = self.labels[index]\n",
        "        return img, label\n",
        "\n",
        "    \n",
        "train_dataset = FER2013_Dataset(train_imgs, train_lbls,training=True)\n",
        "valid_dataset = FER2013_Dataset(val_imgs, val_lbls)\n",
        "test_dataset = FER2013_Dataset(test_imgs, test_lbls)"
      ],
      "id": "6e49d3ed",
      "execution_count": 6,
      "outputs": []
    },
    {
      "cell_type": "markdown",
      "metadata": {
        "id": "5d61f583"
      },
      "source": [
        "## Initialise the model architecture. \n",
        "\n",
        "Initialise the model architecture, here we are using Resnet50 architecture. Please check out https://github.com/cydonia999/VGGFace2-pytorch/ to get architecure."
      ],
      "id": "5d61f583"
    },
    {
      "cell_type": "code",
      "metadata": {
        "id": "a9001635"
      },
      "source": [
        "import torch.nn as nn\n",
        "import math\n",
        "import torch\n",
        "import torch.nn.functional as F\n",
        "__all__ = ['ResNet', 'resnet50']\n",
        "\n",
        "def conv3x3(in_planes, out_planes, stride=1):\n",
        "    \"\"\"3x3 convolution with padding\"\"\"\n",
        "    return nn.Conv2d(in_planes, out_planes, kernel_size=3, stride=stride,\n",
        "                     padding=1, bias=False)\n",
        "\n",
        "\n",
        "class BasicBlock(nn.Module):\n",
        "    expansion = 1\n",
        "\n",
        "    def __init__(self, inplanes, planes, stride=1, downsample=None):\n",
        "        super(BasicBlock, self).__init__()\n",
        "        self.conv1 = conv3x3(inplanes, planes, stride)\n",
        "        self.bn1 = nn.BatchNorm2d(planes)\n",
        "        self.relu = nn.ReLU(inplace=True)\n",
        "        self.conv2 = conv3x3(planes, planes)\n",
        "        self.bn2 = nn.BatchNorm2d(planes)\n",
        "        self.downsample = downsample\n",
        "        self.stride = stride\n",
        "\n",
        "    def forward(self, x):\n",
        "        residual = x\n",
        "\n",
        "        out = self.conv1(x)\n",
        "        out = self.bn1(out)\n",
        "        out = self.relu(out)\n",
        "\n",
        "        out = self.conv2(out)\n",
        "        out = self.bn2(out)\n",
        "\n",
        "        if self.downsample is not None:\n",
        "            residual = self.downsample(x)\n",
        "\n",
        "        out += residual\n",
        "        out = self.relu(out)\n",
        "\n",
        "        return out\n",
        "\n",
        "\n",
        "class Bottleneck(nn.Module):\n",
        "    expansion = 4\n",
        "\n",
        "    def __init__(self, inplanes, planes, stride=1, downsample=None):\n",
        "        super(Bottleneck, self).__init__()\n",
        "        self.conv1 = nn.Conv2d(inplanes, planes, kernel_size=1, stride=stride, bias=False)\n",
        "        self.bn1 = nn.BatchNorm2d(planes)\n",
        "        self.conv2 = nn.Conv2d(planes, planes, kernel_size=3, stride=1, padding=1, bias=False)\n",
        "        self.bn2 = nn.BatchNorm2d(planes)\n",
        "        self.conv3 = nn.Conv2d(planes, planes * 4, kernel_size=1, bias=False)\n",
        "        self.bn3 = nn.BatchNorm2d(planes * 4)\n",
        "        self.relu = nn.ReLU(inplace=True)\n",
        "        self.downsample = downsample\n",
        "        self.stride = stride\n",
        "\n",
        "    def forward(self, x):\n",
        "        residual = x\n",
        "\n",
        "        out = self.conv1(x)\n",
        "        out = self.bn1(out)\n",
        "        out = self.relu(out)\n",
        "\n",
        "        out = self.conv2(out)\n",
        "        out = self.bn2(out)\n",
        "        out = self.relu(out)\n",
        "\n",
        "        out = self.conv3(out)\n",
        "        out = self.bn3(out)\n",
        "\n",
        "        if self.downsample is not None:\n",
        "            residual = self.downsample(x)\n",
        "\n",
        "        out += residual\n",
        "        out = self.relu(out)\n",
        "\n",
        "        return out\n",
        "\n",
        "\n",
        "class ResNet(nn.Module):\n",
        "\n",
        "    def __init__(self, block, layers, num_classes=1000, include_top=True):\n",
        "        self.inplanes = 64\n",
        "        super(ResNet, self).__init__()\n",
        "        self.include_top = include_top\n",
        "        \n",
        "        self.conv1 = nn.Conv2d(3, 64, kernel_size=7, stride=2, padding=3, bias=False)\n",
        "        self.bn1 = nn.BatchNorm2d(64)\n",
        "        self.relu = nn.ReLU(inplace=True)\n",
        "        self.maxpool = nn.MaxPool2d(kernel_size=3, stride=2, padding=0, ceil_mode=True)\n",
        "\n",
        "        self.layer1 = self._make_layer(block, 64, layers[0])\n",
        "        self.layer2 = self._make_layer(block, 128, layers[1], stride=2)\n",
        "        self.layer3 = self._make_layer(block, 256, layers[2], stride=2)\n",
        "        self.layer4 = self._make_layer(block, 512, layers[3], stride=2)\n",
        "        self.avgpool = nn.AvgPool2d(7, stride=1)\n",
        "        self.head = nn.Linear(512 * block.expansion,128)\n",
        "        self.fc = nn.Linear(512 * block.expansion, num_classes)\n",
        "\n",
        "        for m in self.modules():\n",
        "            if isinstance(m, nn.Conv2d):\n",
        "                n = m.kernel_size[0] * m.kernel_size[1] * m.out_channels\n",
        "                m.weight.data.normal_(0, math.sqrt(2. / n))\n",
        "            elif isinstance(m, nn.BatchNorm2d):\n",
        "                m.weight.data.fill_(1)\n",
        "                m.bias.data.zero_()\n",
        "\n",
        "    def _make_layer(self, block, planes, blocks, stride=1):\n",
        "        downsample = None\n",
        "        if stride != 1 or self.inplanes != planes * block.expansion:\n",
        "            downsample = nn.Sequential(\n",
        "                nn.Conv2d(self.inplanes, planes * block.expansion,\n",
        "                          kernel_size=1, stride=stride, bias=False),\n",
        "                nn.BatchNorm2d(planes * block.expansion),\n",
        "            )\n",
        "\n",
        "        layers = []\n",
        "        layers.append(block(self.inplanes, planes, stride, downsample))\n",
        "        self.inplanes = planes * block.expansion\n",
        "        for i in range(1, blocks):\n",
        "            layers.append(block(self.inplanes, planes))\n",
        "\n",
        "        return nn.Sequential(*layers)\n",
        "\n",
        "    def forward(self, x):\n",
        "        x = self.conv1(x)\n",
        "        x = self.bn1(x)\n",
        "        x = self.relu(x)\n",
        "        x = self.maxpool(x)\n",
        "\n",
        "        x = self.layer1(x)\n",
        "        x = self.layer2(x)\n",
        "        x = self.layer3(x)\n",
        "        x = self.layer4(x)\n",
        "\n",
        "        x = self.avgpool(x)\n",
        "        \n",
        "        if not self.include_top:\n",
        "            return x\n",
        "        \n",
        "        x = x.view(x.size(0), -1)\n",
        "        feat = F.normalize(self.head(x), dim=1)\n",
        "\n",
        "        x = self.fc(x)\n",
        "        return x,feat\n",
        "\n",
        "def resnet50(**kwargs):\n",
        "    \"\"\"Constructs a ResNet-50 model.\n",
        "    \"\"\"\n",
        "    model = ResNet(Bottleneck, [3, 4, 6, 3], **kwargs)\n",
        "    return model"
      ],
      "id": "a9001635",
      "execution_count": 7,
      "outputs": []
    },
    {
      "cell_type": "markdown",
      "metadata": {
        "id": "21S4byclryPg"
      },
      "source": [
        "After intialising the model architecture, we load the pre-trained weights of this model trained on a larger related dataset, here we are using VGGFace2. Download the pretrained weights from https://github.com/cydonia999/VGGFace2-pytorch. \n",
        "\n",
        "Store the weight file in the same folder as the project. After initialising the model we load the pre-trained weights. \n",
        "\n",
        "include_top is to indicate for a classification head and this is dependant on the number of classes we have and the weights of which is randomly initialised as its task specific. To make the last layer match the nummber of classes we modify only the last layer of the model i.e self.fc."
      ],
      "id": "21S4byclryPg"
    },
    {
      "cell_type": "code",
      "metadata": {
        "id": "d47fe9bb"
      },
      "source": [
        "def load_state_dict(model, fname):\n",
        "    \"\"\"\n",
        "    Set parameters converted from Caffe models authors of VGGFace2 provide.\n",
        "    See https://www.robots.ox.ac.uk/~vgg/data/vgg_face2/.\n",
        "    Arguments:\n",
        "        model: model\n",
        "        fname: file name of parameters converted from a Caffe model, assuming the file format is Pickle.\n",
        "    \"\"\"\n",
        "    with open(fname, 'rb') as f:\n",
        "        weights = pickle.load(f, encoding='latin1')\n",
        "\n",
        "    own_state = model.state_dict()\n",
        "\n",
        "\n",
        "    for name, param in weights.items():\n",
        "\n",
        "        if not \"fc.\" in name:  ## copy weights for all layers except the classification head\n",
        "            if name in own_state:\n",
        "                own_state[name].copy_(torch.from_numpy(param))\n",
        "\n",
        "weight_file =\"/content/gdrive/MyDrive/is4152_tutorial/resnet50_scratch_weight.pkl\"\n",
        "model = resnet50(num_classes=len(emotion_labels), include_top=True)\n",
        "model = model.cuda()\n",
        "load_state_dict(model, weight_file)"
      ],
      "id": "d47fe9bb",
      "execution_count": 8,
      "outputs": []
    },
    {
      "cell_type": "markdown",
      "metadata": {
        "id": "0ac56e13"
      },
      "source": [
        " <font color='red'> <b> >> CHANGE THE PARAMETERS IN THE BELOW CELL</font>\n",
        "\n",
        "## Getting things ready for training\n",
        "\n",
        "A fairly general checklist,\n",
        "\n",
        "1. Parmeter settings\n",
        "2. Choose the model - ResNet50\n",
        "3. Initialise the data loaders using the created dataset\n",
        "4. Loss function - Cross-entropy \n",
        "5. Optimiser - SGD \n",
        "6. Learning rate scheduler  - Step LR Scheduler\n",
        "\n",
        "Please set the random seed to help get same results for every run in a particular machnine. \n",
        "    \n",
        "###### Do note that the choice of the items in this checklist is highly dependant on your choice of task, model and data."
      ],
      "id": "0ac56e13"
    },
    {
      "cell_type": "code",
      "metadata": {
        "id": "3731b2f1"
      },
      "source": [
        "## SET THE SEED FOR GETTING THE SAME RESULTS AGAIN\n",
        "torch.manual_seed(0)\n",
        "torch.cuda.manual_seed(0)\n",
        "torch.cuda.manual_seed_all(0)\n",
        "np.random.seed(0)\n",
        "random.seed(0)\n",
        "\n",
        "model_arch = \"resnet50\"\n",
        "\n",
        "## Parameter settings\n",
        "nepoch = 10\n",
        "learning_rate = 0.001\n",
        "step_size = 5 ## reduce lr at steps of how many epochs\n",
        "gamma = 0.5 ## how much learning rate to be reduced (lr*gamma after every <step size> epochs)\n",
        "momentum = 0.9\n",
        "\n",
        "batch_size = 64\n",
        "output_size = len(emotion_labels)\n",
        "    \n",
        "\n",
        "# DATA LOADER\n",
        "\n",
        "train_loader = torch.utils.data.DataLoader(train_dataset,batch_size = batch_size,shuffle= True)\n",
        "valid_loader = torch.utils.data.DataLoader(valid_dataset,batch_size = 1,shuffle= False)\n",
        "test_loader = torch.utils.data.DataLoader(test_dataset,batch_size = 1,shuffle= False)\n",
        "\n",
        "# LOSS\n",
        "loss_fn = nn.CrossEntropyLoss()  ## applies softmax to the logits before computing the loss \n",
        "loss_fn = loss_fn.cuda()\n",
        "\n",
        "# OPTIMISER\n",
        "optimizer = torch.optim.SGD(model.parameters(),lr=learning_rate,momentum=momentum)\n",
        "        \n",
        "# LR SCHEDULER : STEP\n",
        "lr_scheduler = torch.optim.lr_scheduler.StepLR(optimizer,step_size=step_size,gamma=gamma)\n",
        "\n"
      ],
      "id": "3731b2f1",
      "execution_count": 9,
      "outputs": []
    },
    {
      "cell_type": "markdown",
      "metadata": {
        "id": "9015fbba"
      },
      "source": [
        "## Training\n",
        "\n",
        "The training dataset is divided into batches by the dataloader. All the weights of the model are fine-tuning (You can also try partial fine-tuning i.e freezing the bottom layers and fine-tuning the top layers). \n",
        "\n",
        "Here, we choose the best model based on the validation performance (accuracy). The best validation accuracy for comes around ~70%\n",
        "\n",
        "\n",
        "Currently the model is ran for \"nepoch\" number of times, early stopping can be employed to prevent overfitting. Approximate time taken for an epoch is 9-10 min. "
      ],
      "id": "9015fbba"
    },
    {
      "cell_type": "code",
      "metadata": {
        "scrolled": true,
        "colab": {
          "base_uri": "https://localhost:8080/"
        },
        "id": "27905e9c",
        "outputId": "4161b6b3-f8fb-45b9-9cd2-2b2e6edf2262"
      },
      "source": [
        "for epoch in range(nepoch):  # loop over the dataset multiple times\n",
        "    train_loss = 0\n",
        "    train_acc = 0\n",
        "    best_criterion = 0\n",
        "    count = 0\n",
        "    ## model in training mode\n",
        "    model.train()\n",
        "    for data in tqdm(train_loader,total=len(train_loader)):\n",
        "     \n",
        "        inputs, target = data\n",
        "        inputs, target = inputs.cuda(), target.cuda()\n",
        "#         print(inputs.size())\n",
        "        ## to clear accumulated gradients\n",
        "        optimizer.zero_grad()\n",
        "\n",
        "        outputs,feature = model(inputs)\n",
        "        loss = loss_fn(outputs,target)\n",
        "        \n",
        "        ## computes the gradients\n",
        "        loss.backward()\n",
        "        ## updates the parameters\n",
        "        optimizer.step()\n",
        "        \n",
        "        train_loss += loss.item()\n",
        "        \n",
        "        pred = torch.argmax(outputs,dim=1)\n",
        "       \n",
        "        num_correct = (pred==target).sum().item()\n",
        "        train_acc += num_correct/inputs.size()[0]\n",
        "        count += 1\n",
        "    \n",
        "    val_acc = 0\n",
        "    val_loss = 0\n",
        "    ## model in evaluation mode\n",
        "    model.eval()\n",
        "    \n",
        "    \n",
        "    with torch.no_grad(): ## disables gradient calculation\n",
        "        \n",
        "        for data in valid_loader:\n",
        "            inputs, target = data\n",
        "            inputs, target = inputs.cuda(), target.cuda()\n",
        "            outputs,feature = model(inputs)\n",
        "            loss = loss_fn(outputs, target)\n",
        "            \n",
        "            ## takes the class with high predicition probability\n",
        "            pred = torch.argmax(outputs,dim=1)\n",
        "       \n",
        "            num_correct = (pred==target).sum().item()\n",
        "            \n",
        "            val_acc += num_correct/inputs.size()[0]\n",
        "            val_loss += loss.item()\n",
        "            \n",
        "    print(\"Epoch:{} Train Loss:{:.2f} Train Accuracy:{:.2f} Val Loss:{:.2f} Val Accuracy:{:.2f}\".format(epoch,train_loss/len(train_loader),(train_acc/len(train_loader))*100,val_loss/len(valid_loader),(val_acc/len(valid_loader))*100))\n",
        "    \n",
        "    ## Saves the best model by tracking the validation accuracy\n",
        "    if val_acc > best_criterion:\n",
        "        torch.save(model.state_dict(),\"/content/gdrive/MyDrive/is4152_tutorial/{}_model_best.pth.tar\".format(model_arch))\n",
        "\n",
        "    best_criterion = max(best_criterion,val_acc)\n",
        "    lr_scheduler.step()\n",
        "\n",
        "    "
      ],
      "id": "27905e9c",
      "execution_count": null,
      "outputs": [
        {
          "output_type": "stream",
          "name": "stderr",
          "text": [
            "\r  0%|          | 0/449 [00:00<?, ?it/s]/usr/local/lib/python3.7/dist-packages/torch/nn/functional.py:718: UserWarning: Named tensors and all their associated APIs are an experimental feature and subject to change. Please do not use them for anything important until they are released as stable. (Triggered internally at  /pytorch/c10/core/TensorImpl.h:1156.)\n",
            "  return torch.max_pool2d(input, kernel_size, stride, padding, dilation, ceil_mode)\n",
            "100%|██████████| 449/449 [09:17<00:00,  1.24s/it]\n"
          ]
        },
        {
          "output_type": "stream",
          "name": "stdout",
          "text": [
            "Epoch:0 Train Loss:1.05 Train Accuracy:60.97 Val Loss:0.92 Val Accuracy:65.45\n"
          ]
        },
        {
          "output_type": "stream",
          "name": "stderr",
          "text": [
            "100%|██████████| 449/449 [09:17<00:00,  1.24s/it]\n"
          ]
        },
        {
          "output_type": "stream",
          "name": "stdout",
          "text": [
            "Epoch:1 Train Loss:0.77 Train Accuracy:71.39 Val Loss:0.91 Val Accuracy:67.37\n"
          ]
        },
        {
          "output_type": "stream",
          "name": "stderr",
          "text": [
            "100%|██████████| 449/449 [09:16<00:00,  1.24s/it]\n"
          ]
        },
        {
          "output_type": "stream",
          "name": "stdout",
          "text": [
            "Epoch:2 Train Loss:0.64 Train Accuracy:75.93 Val Loss:0.93 Val Accuracy:67.62\n"
          ]
        },
        {
          "output_type": "stream",
          "name": "stderr",
          "text": [
            "100%|██████████| 449/449 [09:16<00:00,  1.24s/it]\n"
          ]
        },
        {
          "output_type": "stream",
          "name": "stdout",
          "text": [
            "Epoch:3 Train Loss:0.52 Train Accuracy:81.20 Val Loss:0.97 Val Accuracy:68.46\n"
          ]
        },
        {
          "output_type": "stream",
          "name": "stderr",
          "text": [
            "100%|██████████| 449/449 [09:16<00:00,  1.24s/it]\n"
          ]
        },
        {
          "output_type": "stream",
          "name": "stdout",
          "text": [
            "Epoch:4 Train Loss:0.41 Train Accuracy:85.60 Val Loss:1.03 Val Accuracy:68.26\n"
          ]
        },
        {
          "output_type": "stream",
          "name": "stderr",
          "text": [
            "100%|██████████| 449/449 [09:17<00:00,  1.24s/it]\n"
          ]
        },
        {
          "output_type": "stream",
          "name": "stdout",
          "text": [
            "Epoch:5 Train Loss:0.25 Train Accuracy:91.82 Val Loss:1.08 Val Accuracy:69.41\n"
          ]
        },
        {
          "output_type": "stream",
          "name": "stderr",
          "text": [
            "100%|██████████| 449/449 [09:18<00:00,  1.24s/it]\n"
          ]
        },
        {
          "output_type": "stream",
          "name": "stdout",
          "text": [
            "Epoch:6 Train Loss:0.17 Train Accuracy:94.86 Val Loss:1.18 Val Accuracy:70.21\n"
          ]
        },
        {
          "output_type": "stream",
          "name": "stderr",
          "text": [
            "100%|██████████| 449/449 [09:19<00:00,  1.25s/it]\n"
          ]
        },
        {
          "output_type": "stream",
          "name": "stdout",
          "text": [
            "Epoch:7 Train Loss:0.13 Train Accuracy:96.15 Val Loss:1.28 Val Accuracy:69.99\n"
          ]
        },
        {
          "output_type": "stream",
          "name": "stderr",
          "text": [
            "100%|██████████| 449/449 [09:19<00:00,  1.25s/it]\n"
          ]
        },
        {
          "output_type": "stream",
          "name": "stdout",
          "text": [
            "Epoch:8 Train Loss:0.10 Train Accuracy:97.23 Val Loss:1.42 Val Accuracy:69.16\n"
          ]
        },
        {
          "output_type": "stream",
          "name": "stderr",
          "text": [
            "100%|██████████| 449/449 [09:20<00:00,  1.25s/it]\n"
          ]
        },
        {
          "output_type": "stream",
          "name": "stdout",
          "text": [
            "Epoch:9 Train Loss:0.08 Train Accuracy:97.97 Val Loss:1.42 Val Accuracy:70.52\n"
          ]
        }
      ]
    },
    {
      "cell_type": "markdown",
      "metadata": {
        "id": "06bf56ac"
      },
      "source": [
        "## Testing\n",
        "\n",
        "In the testing phase,the weights of the best model from the training phase is loaded to get the evaluation performance on the test dataset. The best test accuracy  comes around ~72%. The state-of-the-art model in FER2013 gets about 75 -76 % accuracy.\n",
        "\n",
        "We also measure the weighted F1 score, we use the weighted version due imbalance in the class distribution. \n",
        "\n"
      ],
      "id": "06bf56ac"
    },
    {
      "cell_type": "code",
      "metadata": {
        "colab": {
          "base_uri": "https://localhost:8080/"
        },
        "id": "03aa773b",
        "outputId": "c8dc9732-21c6-4ebb-c260-0bc6b72fe6ba"
      },
      "source": [
        "model = \"resnet50\"\n",
        "model = resnet50(num_classes=len(emotion_labels), include_top=True)\n",
        "model = model.cuda()\n",
        "\n",
        "conf_matrix = torch.zeros(output_size,output_size) ## CONFUSION MATRIX\n",
        "total_num_samples = torch.zeros(output_size) ## KEEPS COUNT OF TOTAL NUMBER OF SAMPLES PER CLASS\n",
        "\n",
        "model.load_state_dict(torch.load(\"/content/gdrive/MyDrive/is4152_tutorial/{}_model_best_full.pth.tar\".format(model_arch)))\n",
        "model.eval()\n",
        "\n",
        "test_acc = 0\n",
        "total = 0\n",
        "y_pred,y_true = [],[]\n",
        "\n",
        "model.eval()\n",
        "\n",
        "with torch.no_grad():\n",
        "    for data in test_loader:\n",
        "        inputs, target = data\n",
        "        inputs, target = inputs.cuda(), target.cuda()\n",
        "\n",
        "        outputs,feature = model(inputs)\n",
        "\n",
        "        pred = torch.argmax(outputs,dim=1)\n",
        "\n",
        "        num_correct = (pred==target).sum().item()\n",
        "\n",
        "        test_acc += num_correct/inputs.size()[0]\n",
        "        \n",
        "        \n",
        "        for t, p in zip(target.data, pred):\n",
        "            conf_matrix[t.long(), p.long()] += 1\n",
        "            total_num_samples[t.long()] +=1\n",
        "    \n",
        "        y_pred.extend(pred.data.detach().cpu().tolist())\n",
        "        y_true.extend(target.data.detach().cpu().tolist())\n",
        "            \n",
        "## Weighted F1 score calculation, can change the average to \"macro\" for the unweighted version\n",
        "\n",
        "test_f1 = f1_score(y_true, y_pred, labels=list(range(0,output_size)),average='weighted')\n",
        "\n",
        "print(\"Test Accuracy: {:.2f} Test F1: {:.2f}\".format((test_acc/len(test_loader))*100,(test_f1)*100))"
      ],
      "id": "03aa773b",
      "execution_count": 11,
      "outputs": [
        {
          "output_type": "stream",
          "name": "stdout",
          "text": [
            "Test Accuracy: 72.36 Test F1: 72.30\n"
          ]
        }
      ]
    },
    {
      "cell_type": "markdown",
      "metadata": {
        "id": "edfe3d92"
      },
      "source": [
        "## Visualisation : Confusion matrix\n",
        "\n",
        "Confusion matrix helps visualise the misclassifications amongst the classes. Here, the confusion matrix is normalised by dividing each row with total number of samples in the class represented by the row. The diagonals of the matrix gives the per class accuracy of each class.\n"
      ],
      "id": "edfe3d92"
    },
    {
      "cell_type": "code",
      "metadata": {
        "colab": {
          "base_uri": "https://localhost:8080/",
          "height": 337
        },
        "id": "67748b9a",
        "outputId": "b7c4d365-ba0d-4c00-e5d2-86e7c4512c8a"
      },
      "source": [
        "import seaborn as  sns\n",
        "\n",
        "## NORMALISING THE CONFUSION MATRIX\n",
        "normalised_conf_matrix = torch.div(conf_matrix,total_num_samples.unsqueeze(-1)) \n",
        "\n",
        "ticklabels = emotion_labels\n",
        "sns.heatmap(normalised_conf_matrix,annot=True, fmt=\".2f\",xticklabels=ticklabels,yticklabels=ticklabels,cmap='Blues')\n",
        "plt.title(\"Confusion Matrix\")\n",
        "plt.xlabel(\"Predicted class\")\n",
        "plt.ylabel(\"True class\")\n",
        "\n",
        "plt.show()\n"
      ],
      "id": "67748b9a",
      "execution_count": 12,
      "outputs": [
        {
          "output_type": "display_data",
          "data": {
            "image/png": "[encoded data removed]",
            "text/plain": [
              "<Figure size 432x288 with 2 Axes>"
            ]
          },
          "metadata": {
            "needs_background": "light"
          }
        }
      ]
    }
  ]
}